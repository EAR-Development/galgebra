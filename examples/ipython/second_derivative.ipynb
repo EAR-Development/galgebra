{
 "cells": [
  {
   "cell_type": "code",
   "execution_count": 1,
   "metadata": {},
   "outputs": [
    {
     "data": {
      "text/latex": [
       "$$ \n",
       "\\DeclareMathOperator{\\Tr}{Tr}\n",
       "\\DeclareMathOperator{\\Adj}{Adj}\n",
       "\\newcommand{\\bfrac}[2]{\\displaystyle\\frac{#1}{#2}}\n",
       "\\newcommand{\\lp}{\\left (}\n",
       "\\newcommand{\\rp}{\\right )}\n",
       "\\newcommand{\\paren}[1]{\\lp {#1} \\rp}\n",
       "\\newcommand{\\half}{\\frac{1}{2}}\n",
       "\\newcommand{\\llt}{\\left <}\n",
       "\\newcommand{\\rgt}{\\right >}\n",
       "\\newcommand{\\abs}[1]{\\left |{#1}\\right | }\n",
       "\\newcommand{\\pdiff}[2]{\\bfrac{\\partial {#1}}{\\partial {#2}}}\n",
       "\\newcommand{\\npdiff}[3]{\\bfrac{\\partial^{#3} {#1}}{\\partial {#2}^{#3}}}\n",
       "\\newcommand{\\lbrc}{\\left \\{}\n",
       "\\newcommand{\\rbrc}{\\right \\}}\n",
       "\\newcommand{\\W}{\\wedge}\n",
       "\\newcommand{\\prm}[1]{{#1}'}\n",
       "\\newcommand{\\ddt}[1]{\\bfrac{d{#1}}{dt}}\n",
       "\\newcommand{\\R}{\\dagger}\n",
       "\\newcommand{\\deriv}[3]{\\bfrac{d^{#3}#1}{d{#2}^{#3}}}\n",
       "\\newcommand{\\grd}[1]{\\left < {#1} \\right >}\n",
       "\\newcommand{\\f}[2]{{#1}\\lp {#2} \\rp}\n",
       "\\newcommand{\\eval}[2]{\\left . {#1} \\right |_{#2}}\n",
       "\\newcommand{\\bs}[1]{\\boldsymbol{#1}}\n",
       "\\newcommand{\\es}[1]{\\boldsymbol{e}_{#1}}\n",
       "\\newcommand{\\eS}[1]{\\boldsymbol{e}^{#1}}\n",
       "\\newcommand{\\grade}[2]{\\left < {#1} \\right >_{#2}}\n",
       "\\newcommand{\\lc}{\\rfloor}\n",
       "\\newcommand{\\rc}{\\lfloor}\n",
       "\\newcommand{\\T}[1]{\\text{#1}}\n",
       "\\newcommand{\\lop}[1]{\\overleftarrow{#1}}\n",
       "\\newcommand{\\rop}[1]{\\overrightarrow{#1}}\n",
       "\\newcommand{\\ldot}{\\lfloor}\n",
       "\\newcommand{\\rdot}{\\rfloor}\n",
       "\n",
       "%MacDonald LaTeX macros\n",
       "\n",
       "\\newcommand   {\\thalf}    {\\textstyle \\frac{1}{2}}\n",
       "\\newcommand   {\\tthird}   {\\textstyle \\frac{1}{3}}\n",
       "\\newcommand   {\\tquarter} {\\textstyle \\frac{1}{4}}\n",
       "\\newcommand   {\\tsixth}   {\\textstyle \\frac{1}{6}}\n",
       "\n",
       "\\newcommand   {\\RE}       {\\mathbb{R}}\n",
       "\\newcommand   {\\GA}       {\\mathbb{G}}\n",
       "\\newcommand   {\\inner}    {\\mathbin{\\pmb{\\cdot}}}\n",
       "\\renewcommand {\\outer}    {\\mathbin{\\wedge}}\n",
       "\\newcommand   {\\cross}    {\\mathbin{\\times}}\n",
       "\\newcommand   {\\meet}     {\\mathbin{{\\,\\vee\\;}}}\n",
       "\\renewcommand {\\iff}              {\\Leftrightarrow}\n",
       "\\renewcommand {\\impliedby}{\\Leftarrow}\n",
       "\\renewcommand {\\implies}  {\\Rightarrow}\n",
       "\\newcommand   {\\perpc}    {\\perp}  % Orthogonal complement\n",
       "\\newcommand   {\\perpm}    {*}  % Dual of multivector\n",
       "\\newcommand   {\\del}      {\\mathbf{\\nabla}}  %{\\boldsymbol\\nabla\\!}\n",
       "\\newcommand   {\\mpart}[2]{\\left\\langle\\, #1 \\,\\right\\rangle_{#2}} % AMS has a \\part\n",
       "\\newcommand   {\\spart}[1]{\\mpart{#1}{0}}\n",
       "\\newcommand   {\\ds}       {\\displaystyle}\n",
       "\\newcommand   {\\os}       {\\overset}\n",
       "\\newcommand   {\\galgebra} {\\mbox{$\\mathcal{G\\!A}$\\hspace{.01in}lgebra}}\n",
       "\\newcommand   {\\latex}    {\\LaTeX}\n",
       " $$"
      ],
      "text/plain": [
       "<IPython.core.display.Latex object>"
      ]
     },
     "metadata": {},
     "output_type": "display_data"
    },
    {
     "data": {
      "text/latex": [
       "\\begin{equation*} phi = \\phi ^{t}  \\boldsymbol{e}_{t} + \\phi ^{x}  \\boldsymbol{e}_{x} + \\phi ^{y}  \\boldsymbol{e}_{y} + \\phi ^{z}  \\boldsymbol{e}_{z} \\end{equation*}"
      ],
      "text/plain": [
       "\\phi ^{t}  \\boldsymbol{e}_{t} + \\phi ^{x}  \\boldsymbol{e}_{x} + \\phi ^{y}  \\boldsymbol{e}_{y} + \\phi ^{z}  \\boldsymbol{e}_{z}"
      ]
     },
     "execution_count": 1,
     "metadata": {},
     "output_type": "execute_result"
    }
   ],
   "source": [
    "from galgebra.ga import Ga\n",
    "from sympy import symbols\n",
    "from galgebra.printer import Format\n",
    "\n",
    "Format()\n",
    "coords = (et,ex,ey,ez) = symbols('t,x,y,z',real=True)\n",
    "base=Ga('e*t|x|y|z',g=[1,-1,-1,-1],coords=symbols('t,x,y,z',real=True),wedge=False)\n",
    "\n",
    "potential=base.mv('phi','vector',f=True)\n",
    "potential"
   ]
  },
  {
   "cell_type": "code",
   "execution_count": 2,
   "metadata": {},
   "outputs": [
    {
     "data": {
      "text/latex": [
       "\\begin{equation*} \\left ( \\partial_{t} \\phi ^{t}  + \\partial_{x} \\phi ^{x}  + \\partial_{y} \\phi ^{y}  + \\partial_{z} \\phi ^{z} \\right )  + \\left ( \\partial_{x} \\phi ^{t}  + \\partial_{t} \\phi ^{x} \\right ) \\boldsymbol{e}_{tx} + \\left ( \\partial_{y} \\phi ^{t}  + \\partial_{t} \\phi ^{y} \\right ) \\boldsymbol{e}_{ty} + \\left ( \\partial_{z} \\phi ^{t}  + \\partial_{t} \\phi ^{z} \\right ) \\boldsymbol{e}_{tz} + \\left ( \\partial_{y} \\phi ^{x}  - \\partial_{x} \\phi ^{y} \\right ) \\boldsymbol{e}_{xy} + \\left ( \\partial_{z} \\phi ^{x}  - \\partial_{x} \\phi ^{z} \\right ) \\boldsymbol{e}_{xz} + \\left ( \\partial_{z} \\phi ^{y}  - \\partial_{y} \\phi ^{z} \\right ) \\boldsymbol{e}_{yz} \\end{equation*}"
      ],
      "text/plain": [
       "\\left ( \\partial_{t} \\phi ^{t}  + \\partial_{x} \\phi ^{x}  + \\partial_{y} \\phi ^{y}  + \\partial_{z} \\phi ^{z} \\right )  + \\left ( \\partial_{x} \\phi ^{t}  + \\partial_{t} \\phi ^{x} \\right ) \\boldsymbol{e}_{tx} + \\left ( \\partial_{y} \\phi ^{t}  + \\partial_{t} \\phi ^{y} \\right ) \\boldsymbol{e}_{ty} + \\left ( \\partial_{z} \\phi ^{t}  + \\partial_{t} \\phi ^{z} \\right ) \\boldsymbol{e}_{tz} + \\left ( \\partial_{y} \\phi ^{x}  - \\partial_{x} \\phi ^{y} \\right ) \\boldsymbol{e}_{xy} + \\left ( \\partial_{z} \\phi ^{x}  - \\partial_{x} \\phi ^{z} \\right ) \\boldsymbol{e}_{xz} + \\left ( \\partial_{z} \\phi ^{y}  - \\partial_{y} \\phi ^{z} \\right ) \\boldsymbol{e}_{yz}"
      ]
     },
     "execution_count": 2,
     "metadata": {},
     "output_type": "execute_result"
    }
   ],
   "source": [
    "field=base.grad*potential\n",
    "field"
   ]
  },
  {
   "cell_type": "code",
   "execution_count": 3,
   "metadata": {},
   "outputs": [
    {
     "data": {
      "text/latex": [
       "\\begin{equation*} \\left ( \\partial^{2}_{t} \\phi ^{t}  - \\partial^{2}_{x} \\phi ^{t}  - \\partial^{2}_{y} \\phi ^{t}  - \\partial^{2}_{z} \\phi ^{t} \\right ) \\boldsymbol{e}_{t} + \\left ( \\partial^{2}_{t} \\phi ^{x}  - \\partial^{2}_{x} \\phi ^{x}  - \\partial^{2}_{y} \\phi ^{x}  - \\partial^{2}_{z} \\phi ^{x} \\right ) \\boldsymbol{e}_{x} + \\left ( \\partial^{2}_{t} \\phi ^{y}  - \\partial^{2}_{x} \\phi ^{y}  - \\partial^{2}_{y} \\phi ^{y}  - \\partial^{2}_{z} \\phi ^{y} \\right ) \\boldsymbol{e}_{y} + \\left ( \\partial^{2}_{t} \\phi ^{z}  - \\partial^{2}_{x} \\phi ^{z}  - \\partial^{2}_{y} \\phi ^{z}  - \\partial^{2}_{z} \\phi ^{z} \\right ) \\boldsymbol{e}_{z} \\end{equation*}"
      ],
      "text/plain": [
       "\\left ( \\partial^{2}_{t} \\phi ^{t}  - \\partial^{2}_{x} \\phi ^{t}  - \\partial^{2}_{y} \\phi ^{t}  - \\partial^{2}_{z} \\phi ^{t} \\right ) \\boldsymbol{e}_{t} + \\left ( \\partial^{2}_{t} \\phi ^{x}  - \\partial^{2}_{x} \\phi ^{x}  - \\partial^{2}_{y} \\phi ^{x}  - \\partial^{2}_{z} \\phi ^{x} \\right ) \\boldsymbol{e}_{x} + \\left ( \\partial^{2}_{t} \\phi ^{y}  - \\partial^{2}_{x} \\phi ^{y}  - \\partial^{2}_{y} \\phi ^{y}  - \\partial^{2}_{z} \\phi ^{y} \\right ) \\boldsymbol{e}_{y} + \\left ( \\partial^{2}_{t} \\phi ^{z}  - \\partial^{2}_{x} \\phi ^{z}  - \\partial^{2}_{y} \\phi ^{z}  - \\partial^{2}_{z} \\phi ^{z} \\right ) \\boldsymbol{e}_{z}"
      ]
     },
     "execution_count": 3,
     "metadata": {},
     "output_type": "execute_result"
    }
   ],
   "source": [
    "grad_field = base.grad*field\n",
    "grad_field"
   ]
  },
  {
   "cell_type": "code",
   "execution_count": 4,
   "metadata": {},
   "outputs": [
    {
     "data": {
      "text/latex": [
       "\\begin{equation*} \\left ( \\partial_{x} \\phi ^{t}  + \\partial_{t} \\phi ^{x} \\right ) \\boldsymbol{e}_{tx} \\end{equation*}"
      ],
      "text/plain": [
       "\\left ( \\partial_{x} \\phi ^{t}  + \\partial_{t} \\phi ^{x} \\right ) \\boldsymbol{e}_{tx}"
      ]
     },
     "execution_count": 4,
     "metadata": {},
     "output_type": "execute_result"
    }
   ],
   "source": [
    "part=field.proj([base.mv()[0]^base.mv()[1]])\n",
    "part"
   ]
  },
  {
   "cell_type": "code",
   "execution_count": 5,
   "metadata": {},
   "outputs": [
    {
     "data": {
      "text/latex": [
       "\\begin{equation*} \\left ( - \\partial^{2}_{x} \\phi ^{t}  - \\partial_{t}\\partial_{x} \\phi ^{x} \\right ) \\boldsymbol{e}_{t} + \\left ( \\partial^{2}_{t} \\phi ^{x}  + \\partial_{t}\\partial_{x} \\phi ^{t} \\right ) \\boldsymbol{e}_{x} + \\left ( - \\partial_{x}\\partial_{y} \\phi ^{t}  - \\partial_{t}\\partial_{y} \\phi ^{x} \\right ) \\boldsymbol{e}_{txy} + \\left ( - \\partial_{x}\\partial_{z} \\phi ^{t}  - \\partial_{t}\\partial_{z} \\phi ^{x} \\right ) \\boldsymbol{e}_{txz} \\end{equation*}"
      ],
      "text/plain": [
       "\\left ( - \\partial^{2}_{x} \\phi ^{t}  - \\partial_{t}\\partial_{x} \\phi ^{x} \\right ) \\boldsymbol{e}_{t} + \\left ( \\partial^{2}_{t} \\phi ^{x}  + \\partial_{t}\\partial_{x} \\phi ^{t} \\right ) \\boldsymbol{e}_{x} + \\left ( - \\partial_{x}\\partial_{y} \\phi ^{t}  - \\partial_{t}\\partial_{y} \\phi ^{x} \\right ) \\boldsymbol{e}_{txy} + \\left ( - \\partial_{x}\\partial_{z} \\phi ^{t}  - \\partial_{t}\\partial_{z} \\phi ^{x} \\right ) \\boldsymbol{e}_{txz}"
      ]
     },
     "execution_count": 5,
     "metadata": {},
     "output_type": "execute_result"
    }
   ],
   "source": [
    "dpart = base.grad*part\n",
    "dpart"
   ]
  }
 ],
 "metadata": {
  "kernelspec": {
   "display_name": "Python 3",
   "language": "python",
   "name": "python3"
  },
  "language_info": {
   "codemirror_mode": {
    "name": "ipython",
    "version": 3
   },
   "file_extension": ".py",
   "mimetype": "text/x-python",
   "name": "python",
   "nbconvert_exporter": "python",
   "pygments_lexer": "ipython3",
   "version": "3.7.1"
  }
 },
 "nbformat": 4,
 "nbformat_minor": 1
}
