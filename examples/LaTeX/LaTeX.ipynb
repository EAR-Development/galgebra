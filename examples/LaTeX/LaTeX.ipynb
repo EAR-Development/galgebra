{
 "cells": [
  {
   "cell_type": "code",
   "execution_count": 1,
   "metadata": {},
   "outputs": [],
   "source": [
    "# %cd -q ../LaTeX"
   ]
  },
  {
   "cell_type": "code",
   "execution_count": 2,
   "metadata": {},
   "outputs": [
    {
     "data": {
      "text/plain": [
       "' \\\\left [ \\\\begin{array}{cccc} 0 & 0 & 1 & 0  \\\\\\\\ 0 & 0 & 0 & 1  \\\\\\\\ 1 & 0 & 0 & 0  \\\\\\\\ 0 & 1 & 0 & 0  \\\\end{array}\\\\right ] '"
      ]
     },
     "metadata": {},
     "output_type": "display_data"
    }
   ],
   "source": [
    "%run 4Derr.py"
   ]
  },
  {
   "cell_type": "code",
   "execution_count": 3,
   "metadata": {},
   "outputs": [
    {
     "name": "stdout",
     "output_type": "stream",
     "text": [
      "\r\n",
      "\\documentclass[10pt,fleqn]{report}\r\n",
      "\\usepackage[vcentering]{geometry}\r\n",
      "\\geometry{papersize={14in,11in},total={13in,10in}}\r\n",
      "\r\n",
      "\\pagestyle{empty}\r\n",
      "\\usepackage[latin1]{inputenc}\r\n",
      "\\usepackage{amsmath}\r\n",
      "\\usepackage{amsfonts}\r\n",
      "\\usepackage{amssymb}\r\n",
      "\\usepackage{amsbsy}\r\n",
      "\\usepackage{tensor}\r\n",
      "\\usepackage{listings}\r\n",
      "\\usepackage{color}\r\n",
      "\\usepackage{xcolor}\r\n",
      "\\usepackage{bm}\r\n",
      "\\usepackage{breqn}\r\n",
      "\\definecolor{gray}{rgb}{0.95,0.95,0.95}\r\n",
      "\\setlength{\\parindent}{0pt}\r\n",
      "\\DeclareMathOperator{\\Tr}{Tr}\r\n",
      "\\DeclareMathOperator{\\Adj}{Adj}\r\n",
      "\\newcommand{\\bfrac}[2]{\\displaystyle\\frac{#1}{#2}}\r\n",
      "\\newcommand{\\lp}{\\left (}\r\n",
      "\\newcommand{\\rp}{\\right )}\r\n",
      "\\newcommand{\\paren}[1]{\\lp {#1} \\rp}\r\n",
      "\\newcommand{\\half}{\\frac{1}{2}}\r\n",
      "\\newcommand{\\llt}{\\left <}\r\n",
      "\\newcommand{\\rgt}{\\right >}\r\n",
      "\\newcommand{\\abs}[1]{\\left |{#1}\\right | }\r\n",
      "\\newcommand{\\pdiff}[2]{\\bfrac{\\partial {#1}}{\\partial {#2}}}\r\n",
      "\\newcommand{\\lbrc}{\\left \\{}\r\n",
      "\\newcommand{\\rbrc}{\\right \\}}\r\n",
      "\\newcommand{\\W}{\\wedge}\r\n",
      "\\newcommand{\\prm}[1]{{#1}'}\r\n",
      "\\newcommand{\\ddt}[1]{\\bfrac{d{#1}}{dt}}\r\n",
      "\\newcommand{\\R}{\\dagger}\r\n",
      "\\newcommand{\\deriv}[3]{\\bfrac{d^{#3}#1}{d{#2}^{#3}}}\r\n",
      "\\newcommand{\\grade}[1]{\\left < {#1} \\right >}\r\n",
      "\\newcommand{\\f}[2]{{#1}\\lp{#2}\\rp}\r\n",
      "\\newcommand{\\eval}[2]{\\left . {#1} \\right |_{#2}}\r\n",
      "\\newcommand{\\Nabla}{\\boldsymbol{\\nabla}}\r\n",
      "\\newcommand{\\eb}{\\boldsymbol{e}}\r\n",
      "\\usepackage{float}\r\n",
      "\\floatstyle{plain} % optionally change the style of the new float\r\n",
      "\\newfloat{Code}{H}{myc}\r\n",
      "\\lstloadlanguages{Python}\r\n",
      "\r\n",
      "\\begin{document}\r\n",
      "\\begin{equation*} g_{ii} = None \\end{equation*}\r\n",
      "\\begin{equation*} x_1\\rfloor x_1== 1 \\end{equation*}\r\n",
      "\\begin{equation*} x_1\\rfloor x_2== 0 \\end{equation*}\r\n",
      "\\begin{equation*} x_2\\rfloor x_1== 0 \\end{equation*}\r\n",
      "\\begin{equation*} x_2\\rfloor x_2== 1 \\end{equation*}\r\n",
      "$-\\infty < v < \\infty$\r\n",
      "\\begin{equation*} (-v (x_1\\W x_2)/2) \\cdot exp()== \\cos{\\left (\\frac{\\left|{v}\\right|}{2} \\right )}  - \\frac{v \\sin{\\left (\\frac{\\left|{v}\\right|}{2} \\right )}}{2 \\left|{v}\\right|} \\boldsymbol{e}_{1}\\wedge \\boldsymbol{e}_{2} - \\frac{v \\sin{\\left (\\frac{\\left|{v}\\right|}{2} \\right )}}{2 \\left|{v}\\right|} \\boldsymbol{e}_{1}\\wedge \\boldsymbol{e}_{4} + \\frac{v \\sin{\\left (\\frac{\\left|{v}\\right|}{2} \\right )}}{2 \\left|{v}\\right|} \\boldsymbol{e}_{2}\\wedge \\boldsymbol{e}_{3} - \\frac{v \\sin{\\left (\\frac{\\left|{v}\\right|}{2} \\right )}}{2 \\left|{v}\\right|} \\boldsymbol{e}_{3}\\wedge \\boldsymbol{e}_{4} \\end{equation*}\r\n",
      "$0\\le v < \\infty$\r\n",
      "\\begin{equation*} (-v (x_1\\W x_2)/2) \\cdot exp()== \\cos{\\left (\\frac{v}{2} \\right )}  - \\frac{\\sin{\\left (\\frac{v}{2} \\right )}}{2} \\boldsymbol{e}_{1}\\wedge \\boldsymbol{e}_{2} - \\frac{\\sin{\\left (\\frac{v}{2} \\right )}}{2} \\boldsymbol{e}_{1}\\wedge \\boldsymbol{e}_{4} + \\frac{\\sin{\\left (\\frac{v}{2} \\right )}}{2} \\boldsymbol{e}_{2}\\wedge \\boldsymbol{e}_{3} - \\frac{\\sin{\\left (\\frac{v}{2} \\right )}}{2} \\boldsymbol{e}_{3}\\wedge \\boldsymbol{e}_{4} \\end{equation*}\r\n",
      "\\end{document}\r\n"
     ]
    }
   ],
   "source": [
    "!cat 4Derr.tex"
   ]
  },
  {
   "cell_type": "code",
   "execution_count": 4,
   "metadata": {},
   "outputs": [],
   "source": [
    "%run curvi_linear_latex.py"
   ]
  },
  {
   "cell_type": "code",
   "execution_count": 5,
   "metadata": {
    "scrolled": false
   },
   "outputs": [
    {
     "name": "stdout",
     "output_type": "stream",
     "text": [
      "\r\n",
      "\\documentclass[10pt,fleqn]{report}\r\n",
      "\\usepackage[vcentering]{geometry}\r\n",
      "\\geometry{papersize={14in,11in},total={13in,10in}}\r\n",
      "\r\n",
      "\\pagestyle{empty}\r\n",
      "\\usepackage[latin1]{inputenc}\r\n",
      "\\usepackage{amsmath}\r\n",
      "\\usepackage{amsfonts}\r\n",
      "\\usepackage{amssymb}\r\n",
      "\\usepackage{amsbsy}\r\n",
      "\\usepackage{tensor}\r\n",
      "\\usepackage{listings}\r\n",
      "\\usepackage{color}\r\n",
      "\\usepackage{xcolor}\r\n",
      "\\usepackage{bm}\r\n",
      "\\usepackage{breqn}\r\n",
      "\\definecolor{gray}{rgb}{0.95,0.95,0.95}\r\n",
      "\\setlength{\\parindent}{0pt}\r\n",
      "\\DeclareMathOperator{\\Tr}{Tr}\r\n",
      "\\DeclareMathOperator{\\Adj}{Adj}\r\n",
      "\\newcommand{\\bfrac}[2]{\\displaystyle\\frac{#1}{#2}}\r\n",
      "\\newcommand{\\lp}{\\left (}\r\n",
      "\\newcommand{\\rp}{\\right )}\r\n",
      "\\newcommand{\\paren}[1]{\\lp {#1} \\rp}\r\n",
      "\\newcommand{\\half}{\\frac{1}{2}}\r\n",
      "\\newcommand{\\llt}{\\left <}\r\n",
      "\\newcommand{\\rgt}{\\right >}\r\n",
      "\\newcommand{\\abs}[1]{\\left |{#1}\\right | }\r\n",
      "\\newcommand{\\pdiff}[2]{\\bfrac{\\partial {#1}}{\\partial {#2}}}\r\n",
      "\\newcommand{\\lbrc}{\\left \\{}\r\n",
      "\\newcommand{\\rbrc}{\\right \\}}\r\n",
      "\\newcommand{\\W}{\\wedge}\r\n",
      "\\newcommand{\\prm}[1]{{#1}'}\r\n",
      "\\newcommand{\\ddt}[1]{\\bfrac{d{#1}}{dt}}\r\n",
      "\\newcommand{\\R}{\\dagger}\r\n",
      "\\newcommand{\\deriv}[3]{\\bfrac{d^{#3}#1}{d{#2}^{#3}}}\r\n",
      "\\newcommand{\\grade}[1]{\\left < {#1} \\right >}\r\n",
      "\\newcommand{\\f}[2]{{#1}\\lp{#2}\\rp}\r\n",
      "\\newcommand{\\eval}[2]{\\left . {#1} \\right |_{#2}}\r\n",
      "\\newcommand{\\Nabla}{\\boldsymbol{\\nabla}}\r\n",
      "\\newcommand{\\eb}{\\boldsymbol{e}}\r\n",
      "\\usepackage{float}\r\n",
      "\\floatstyle{plain} % optionally change the style of the new float\r\n",
      "\\newfloat{Code}{H}{myc}\r\n",
      "\\lstloadlanguages{Python}\r\n",
      "\r\n",
      "\\begin{document}\r\n",
      "\\begin{equation*} g_{ii} = None \\end{equation*}\r\n",
      "\\begin{equation*} x_1\\rfloor x_1== 1 \\end{equation*}\r\n",
      "\\begin{equation*} x_1\\rfloor x_2== 0 \\end{equation*}\r\n",
      "\\begin{equation*} x_2\\rfloor x_1== 0 \\end{equation*}\r\n",
      "\\begin{equation*} x_2\\rfloor x_2== 1 \\end{equation*}\r\n",
      "$-\\infty < v < \\infty$\r\n",
      "\\begin{equation*} (-v (x_1\\W x_2)/2) \\cdot exp()== \\cos{\\left (\\frac{\\left|{v}\\right|}{2} \\right )}  - \\frac{v \\sin{\\left (\\frac{\\left|{v}\\right|}{2} \\right )}}{2 \\left|{v}\\right|} \\boldsymbol{e}_{1}\\wedge \\boldsymbol{e}_{2} - \\frac{v \\sin{\\left (\\frac{\\left|{v}\\right|}{2} \\right )}}{2 \\left|{v}\\right|} \\boldsymbol{e}_{1}\\wedge \\boldsymbol{e}_{4} + \\frac{v \\sin{\\left (\\frac{\\left|{v}\\right|}{2} \\right )}}{2 \\left|{v}\\right|} \\boldsymbol{e}_{2}\\wedge \\boldsymbol{e}_{3} - \\frac{v \\sin{\\left (\\frac{\\left|{v}\\right|}{2} \\right )}}{2 \\left|{v}\\right|} \\boldsymbol{e}_{3}\\wedge \\boldsymbol{e}_{4} \\end{equation*}\r\n",
      "$0\\le v < \\infty$\r\n",
      "\\begin{equation*} (-v (x_1\\W x_2)/2) \\cdot exp()== \\cos{\\left (\\frac{v}{2} \\right )}  - \\frac{\\sin{\\left (\\frac{v}{2} \\right )}}{2} \\boldsymbol{e}_{1}\\wedge \\boldsymbol{e}_{2} - \\frac{\\sin{\\left (\\frac{v}{2} \\right )}}{2} \\boldsymbol{e}_{1}\\wedge \\boldsymbol{e}_{4} + \\frac{\\sin{\\left (\\frac{v}{2} \\right )}}{2} \\boldsymbol{e}_{2}\\wedge \\boldsymbol{e}_{3} - \\frac{\\sin{\\left (\\frac{v}{2} \\right )}}{2} \\boldsymbol{e}_{3}\\wedge \\boldsymbol{e}_{4} \\end{equation*}\r\n",
      "\\begin{equation*} f = f \\end{equation*}\r\n",
      "\\begin{equation*} A = A^{r}  \\boldsymbol{e}_{r} + A^{\\theta }  \\boldsymbol{e}_{\\theta } + A^{\\phi }  \\boldsymbol{e}_{\\phi } \\end{equation*}\r\n",
      "\\begin{equation*} B = B^{r\\theta }  \\boldsymbol{e}_{r}\\wedge \\boldsymbol{e}_{\\theta } + B^{r\\phi }  \\boldsymbol{e}_{r}\\wedge \\boldsymbol{e}_{\\phi } + B^{\\theta \\phi }  \\boldsymbol{e}_{\\theta }\\wedge \\boldsymbol{e}_{\\phi } \\end{equation*}\r\n",
      "\\begin{equation*} \\boldsymbol{\\nabla}  f = \\partial_{r} f  \\boldsymbol{e}_{r} + \\frac{\\partial_{\\theta } f }{r^{2}} \\boldsymbol{e}_{\\theta } + \\frac{\\partial_{\\phi } f }{r^{2} {\\sin{\\left (\\theta  \\right )}}^{2}} \\boldsymbol{e}_{\\phi } \\end{equation*}\r\n",
      "\\begin{equation*} \\boldsymbol{\\nabla} \\cdot A = \\frac{A^{\\theta } }{\\tan{\\left (\\theta  \\right )}} + \\partial_{\\phi } A^{\\phi }  + \\partial_{r} A^{r}  + \\partial_{\\theta } A^{\\theta }  + \\frac{2 A^{r} }{r} \\end{equation*}\r\n",
      "\\begin{equation*} \\boldsymbol{\\nabla} \\times A = -I (\\boldsymbol{\\nabla} \\W A) = \\left(\\frac{2 A^{\\phi } }{\\tan{\\left (\\theta  \\right )}} + \\partial_{\\theta } A^{\\phi }  - \\frac{\\partial_{\\phi } A^{\\theta } }{{\\sin{\\left (\\theta  \\right )}}^{2}}\\right) \\left|{\\sin{\\left (\\theta  \\right )}}\\right| \\boldsymbol{e}_{r} + \\frac{- r^{2} {\\sin{\\left (\\theta  \\right )}}^{2} \\partial_{r} A^{\\phi }  - 2 r A^{\\phi }  {\\sin{\\left (\\theta  \\right )}}^{2} + \\partial_{\\phi } A^{r} }{r^{2} \\left|{\\sin{\\left (\\theta  \\right )}}\\right|} \\boldsymbol{e}_{\\theta } + \\frac{r^{2} \\partial_{r} A^{\\theta }  + 2 r A^{\\theta }  - \\partial_{\\theta } A^{r} }{r^{2} \\left|{\\sin{\\left (\\theta  \\right )}}\\right|} \\boldsymbol{e}_{\\phi } \\end{equation*}\r\n",
      "\\begin{equation*} \\nabla^{2}f = \\frac{r^{2} \\partial^{2}_{r} f  + 2 r \\partial_{r} f  + \\partial^{2}_{\\theta } f  + \\frac{\\partial_{\\theta } f }{\\tan{\\left (\\theta  \\right )}} + \\frac{\\partial^{2}_{\\phi } f }{{\\sin{\\left (\\theta  \\right )}}^{2}}}{r^{2}} \\end{equation*}\r\n",
      "\\begin{equation*} \\boldsymbol{\\nabla} \\W B = \\frac{r^{2} \\partial_{r} B^{\\theta \\phi }  + 4 r B^{\\theta \\phi }  - \\frac{2 B^{r\\phi } }{\\tan{\\left (\\theta  \\right )}} - \\partial_{\\theta } B^{r\\phi }  + \\frac{\\partial_{\\phi } B^{r\\theta } }{{\\sin{\\left (\\theta  \\right )}}^{2}}}{r^{2}} \\boldsymbol{e}_{r}\\wedge \\boldsymbol{e}_{\\theta }\\wedge \\boldsymbol{e}_{\\phi } \\end{equation*}\r\n",
      "Derivatives in Paraboloidal Coordinates\r\n",
      "\\begin{equation*} f = f \\end{equation*}\r\n",
      "\\begin{equation*} A = A^{u}  \\boldsymbol{e}_{u} + A^{v}  \\boldsymbol{e}_{v} + A^{\\phi }  \\boldsymbol{e}_{\\phi } \\end{equation*}\r\n",
      "\\begin{equation*} B = B^{uv}  \\boldsymbol{e}_{u}\\wedge \\boldsymbol{e}_{v} + B^{u\\phi }  \\boldsymbol{e}_{u}\\wedge \\boldsymbol{e}_{\\phi } + B^{v\\phi }  \\boldsymbol{e}_{v}\\wedge \\boldsymbol{e}_{\\phi } \\end{equation*}\r\n",
      "\\begin{equation*} \\boldsymbol{\\nabla}  f = \\frac{\\partial_{u} f }{\\sqrt{u^{2} + v^{2}}} \\boldsymbol{e}_{u} + \\frac{\\partial_{v} f }{\\sqrt{u^{2} + v^{2}}} \\boldsymbol{e}_{v} + \\frac{\\partial_{\\phi } f }{u v} \\boldsymbol{e}_{\\phi } \\end{equation*}\r\n",
      "\\begin{equation*} \\boldsymbol{\\nabla} \\cdot A = \\frac{u A^{u} }{\\left(u^{2} + v^{2}\\right)^{\\frac{3}{2}}} + \\frac{v A^{v} }{\\left(u^{2} + v^{2}\\right)^{\\frac{3}{2}}} + \\frac{\\partial_{u} A^{u} }{\\sqrt{u^{2} + v^{2}}} + \\frac{\\partial_{v} A^{v} }{\\sqrt{u^{2} + v^{2}}} + \\frac{A^{v} }{v \\sqrt{u^{2} + v^{2}}} + \\frac{A^{u} }{u \\sqrt{u^{2} + v^{2}}} + \\frac{\\partial_{\\phi } A^{\\phi } }{u v} \\end{equation*}\r\n",
      "\\begin{equation*} \\boldsymbol{\\nabla} \\W B = \\left ( \\frac{u B^{v\\phi } }{\\left(u^{2} + v^{2}\\right)^{\\frac{3}{2}}} - \\frac{v B^{u\\phi } }{\\left(u^{2} + v^{2}\\right)^{\\frac{3}{2}}} - \\frac{\\partial_{v} B^{u\\phi } }{\\sqrt{u^{2} + v^{2}}} + \\frac{\\partial_{u} B^{v\\phi } }{\\sqrt{u^{2} + v^{2}}} - \\frac{B^{u\\phi } }{v \\sqrt{u^{2} + v^{2}}} + \\frac{B^{v\\phi } }{u \\sqrt{u^{2} + v^{2}}} + \\frac{\\partial_{\\phi } B^{uv} }{u v}\\right ) \\boldsymbol{e}_{u}\\wedge \\boldsymbol{e}_{v}\\wedge \\boldsymbol{e}_{\\phi } \\end{equation*}\r\n",
      "\\begin{equation*} f = f \\end{equation*}\r\n",
      "  \\begin{align*} A =  & A^{\\xi }  \\boldsymbol{e}_{\\xi } \\\\  &  + A^{\\eta }  \\boldsymbol{e}_{\\eta } \\\\  &  + A^{\\phi }  \\boldsymbol{e}_{\\phi }  \\end{align*} \r\n",
      "  \\begin{align*} B =  & B^{\\xi \\eta }  \\boldsymbol{e}_{\\xi }\\wedge \\boldsymbol{e}_{\\eta } \\\\  &  + B^{\\xi \\phi }  \\boldsymbol{e}_{\\xi }\\wedge \\boldsymbol{e}_{\\phi } \\\\  &  + B^{\\eta \\phi }  \\boldsymbol{e}_{\\eta }\\wedge \\boldsymbol{e}_{\\phi }  \\end{align*} \r\n",
      "  \\begin{align*} \\boldsymbol{\\nabla}  f =  & \\frac{\\partial_{\\xi } f }{\\sqrt{{\\sin{\\left (\\eta  \\right )}}^{2} + {\\sinh{\\left (\\xi  \\right )}}^{2}} \\left|{a}\\right|} \\boldsymbol{e}_{\\xi } \\\\  &  + \\frac{\\partial_{\\eta } f }{\\sqrt{{\\sin{\\left (\\eta  \\right )}}^{2} + {\\sinh{\\left (\\xi  \\right )}}^{2}} \\left|{a}\\right|} \\boldsymbol{e}_{\\eta } \\\\  &  + \\frac{\\partial_{\\phi } f }{a \\sin{\\left (\\eta  \\right )} \\sinh{\\left (\\xi  \\right )}} \\boldsymbol{e}_{\\phi }  \\end{align*} \r\n",
      "\\begin{equation*} \\boldsymbol{\\nabla} \\cdot A = \\frac{a \\left({\\sin{\\left (\\eta  \\right )}}^{2} + {\\sinh{\\left (\\xi  \\right )}}^{2}\\right)^{3} \\partial_{\\phi } A^{\\phi }  + \\frac{\\left(A^{\\eta }  \\sin{\\left (2 \\eta  \\right )} + A^{\\xi }  \\sinh{\\left (2 \\xi  \\right )}\\right) \\left({\\sin{\\left (\\eta  \\right )}}^{2} + {\\sinh{\\left (\\xi  \\right )}}^{2}\\right)^{\\frac{3}{2}} \\sin{\\left (\\eta  \\right )} \\sinh{\\left (\\xi  \\right )} \\left|{a}\\right|}{2} + \\left({\\sin{\\left (\\eta  \\right )}}^{2} + {\\sinh{\\left (\\xi  \\right )}}^{2}\\right)^{\\frac{5}{2}} \\left(\\partial_{\\eta } A^{\\eta }  + \\partial_{\\xi } A^{\\xi } \\right) \\sin{\\left (\\eta  \\right )} \\sinh{\\left (\\xi  \\right )} \\left|{a}\\right| + \\left({\\sin{\\left (\\eta  \\right )}}^{2} + {\\sinh{\\left (\\xi  \\right )}}^{2}\\right)^{\\frac{5}{2}} A^{\\eta }  \\cos{\\left (\\eta  \\right )} \\sinh{\\left (\\xi  \\right )} \\left|{a}\\right| + \\left({\\sin{\\left (\\eta  \\right )}}^{2} + {\\sinh{\\left (\\xi  \\right )}}^{2}\\right)^{\\frac{5}{2}} A^{\\xi }  \\sin{\\left (\\eta  \\right )} \\cosh{\\left (\\xi  \\right )} \\left|{a}\\right|}{a^{2} \\left({\\sin{\\left (\\eta  \\right )}}^{2} + {\\sinh{\\left (\\xi  \\right )}}^{2}\\right)^{3} \\sin{\\left (\\eta  \\right )} \\sinh{\\left (\\xi  \\right )}} \\end{equation*}\r\n",
      "\\end{document}\r\n"
     ]
    }
   ],
   "source": [
    "!cat curvi_linear_latex.tex"
   ]
  },
  {
   "cell_type": "code",
   "execution_count": 1,
   "metadata": {},
   "outputs": [
    {
     "data": {
      "text/plain": [
       "' \\\\left [ \\\\begin{array}{ccc} \\\\left ( e_{a}\\\\cdot e_{a}\\\\right )  & 0 & \\\\left ( e_{a}\\\\cdot e_{b}\\\\right )   \\\\\\\\ 0 & \\\\left ( e_{ab}\\\\cdot e_{ab}\\\\right )  & 0  \\\\\\\\ \\\\left ( e_{a}\\\\cdot e_{b}\\\\right )  & 0 & \\\\left ( e_{b}\\\\cdot e_{b}\\\\right )   \\\\end{array}\\\\right ] '"
      ]
     },
     "metadata": {},
     "output_type": "display_data"
    }
   ],
   "source": [
    "%run dchk.py"
   ]
  },
  {
   "cell_type": "code",
   "execution_count": 2,
   "metadata": {},
   "outputs": [
    {
     "name": "stdout",
     "output_type": "stream",
     "text": [
      "\r\n",
      "\\documentclass[10pt,fleqn]{report}\r\n",
      "\\usepackage[vcentering]{geometry}\r\n",
      "\\geometry{papersize={14in,11in},total={13in,10in}}\r\n",
      "\r\n",
      "\\pagestyle{empty}\r\n",
      "\\usepackage[latin1]{inputenc}\r\n",
      "\\usepackage{amsmath}\r\n",
      "\\usepackage{amsfonts}\r\n",
      "\\usepackage{amssymb}\r\n",
      "\\usepackage{amsbsy}\r\n",
      "\\usepackage{tensor}\r\n",
      "\\usepackage{listings}\r\n",
      "\\usepackage{color}\r\n",
      "\\usepackage{xcolor}\r\n",
      "\\usepackage{bm}\r\n",
      "\\usepackage{breqn}\r\n",
      "\\definecolor{gray}{rgb}{0.95,0.95,0.95}\r\n",
      "\\setlength{\\parindent}{0pt}\r\n",
      "\\DeclareMathOperator{\\Tr}{Tr}\r\n",
      "\\DeclareMathOperator{\\Adj}{Adj}\r\n",
      "\\newcommand{\\bfrac}[2]{\\displaystyle\\frac{#1}{#2}}\r\n",
      "\\newcommand{\\lp}{\\left (}\r\n",
      "\\newcommand{\\rp}{\\right )}\r\n",
      "\\newcommand{\\paren}[1]{\\lp {#1} \\rp}\r\n",
      "\\newcommand{\\half}{\\frac{1}{2}}\r\n",
      "\\newcommand{\\llt}{\\left <}\r\n",
      "\\newcommand{\\rgt}{\\right >}\r\n",
      "\\newcommand{\\abs}[1]{\\left |{#1}\\right | }\r\n",
      "\\newcommand{\\pdiff}[2]{\\bfrac{\\partial {#1}}{\\partial {#2}}}\r\n",
      "\\newcommand{\\lbrc}{\\left \\{}\r\n",
      "\\newcommand{\\rbrc}{\\right \\}}\r\n",
      "\\newcommand{\\W}{\\wedge}\r\n",
      "\\newcommand{\\prm}[1]{{#1}'}\r\n",
      "\\newcommand{\\ddt}[1]{\\bfrac{d{#1}}{dt}}\r\n",
      "\\newcommand{\\R}{\\dagger}\r\n",
      "\\newcommand{\\deriv}[3]{\\bfrac{d^{#3}#1}{d{#2}^{#3}}}\r\n",
      "\\newcommand{\\grade}[1]{\\left < {#1} \\right >}\r\n",
      "\\newcommand{\\f}[2]{{#1}\\lp{#2}\\rp}\r\n",
      "\\newcommand{\\eval}[2]{\\left . {#1} \\right |_{#2}}\r\n",
      "\\newcommand{\\Nabla}{\\boldsymbol{\\nabla}}\r\n",
      "\\newcommand{\\eb}{\\boldsymbol{e}}\r\n",
      "\\usepackage{float}\r\n",
      "\\floatstyle{plain} % optionally change the style of the new float\r\n",
      "\\newfloat{Code}{H}{myc}\r\n",
      "\\lstloadlanguages{Python}\r\n",
      "\r\n",
      "\\begin{document}\r\n",
      "\\begin{equation*} None \\end{equation*}\r\n",
      "\\begin{equation*} v^{a} \\boldsymbol{e}_{a} + v^{ab} \\boldsymbol{e}_{ab} + v^{b} \\boldsymbol{e}_{b} \\end{equation*}\r\n",
      "\\begin{equation*} B^{aab} \\boldsymbol{e}_{a}\\wedge \\boldsymbol{e}_{ab} + B^{ab} \\boldsymbol{e}_{a}\\wedge \\boldsymbol{e}_{b} + B^{abb} \\boldsymbol{e}_{ab}\\wedge \\boldsymbol{e}_{b} \\end{equation*}\r\n",
      "\\end{document}\r\n"
     ]
    }
   ],
   "source": [
    "%cat dchk.tex"
   ]
  },
  {
   "cell_type": "code",
   "execution_count": null,
   "metadata": {},
   "outputs": [],
   "source": []
  }
 ],
 "metadata": {
  "kernelspec": {
   "display_name": "Python 2",
   "language": "python",
   "name": "python2"
  },
  "language_info": {
   "codemirror_mode": {
    "name": "ipython",
    "version": 3
   },
   "file_extension": ".py",
   "mimetype": "text/x-python",
   "name": "python",
   "nbconvert_exporter": "python",
   "pygments_lexer": "ipython3",
   "version": "3.7.2"
  }
 },
 "nbformat": 4,
 "nbformat_minor": 2
}
